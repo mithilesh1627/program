{
 "cells": [
  {
   "cell_type": "code",
   "execution_count": 1,
   "metadata": {},
   "outputs": [],
   "source": [
    "import numpy as np\n",
    "import sklearn\n",
    "import matplotlib as mpl\n",
    "import matplotlib.pyplot as plt"
   ]
  },
  {
   "cell_type": "code",
   "execution_count": 2,
   "metadata": {},
   "outputs": [
    {
     "data": {
      "text/plain": [
       "dict_keys(['data', 'target', 'frame', 'categories', 'feature_names', 'target_names', 'DESCR', 'details', 'url'])"
      ]
     },
     "execution_count": 2,
     "metadata": {},
     "output_type": "execute_result"
    }
   ],
   "source": [
    "from sklearn.datasets import fetch_openml\n",
    "mnist = fetch_openml('mnist_784',version=1)\n",
    "mnist.keys()"
   ]
  },
  {
   "cell_type": "code",
   "execution_count": 3,
   "metadata": {},
   "outputs": [],
   "source": [
    "X , y = mnist['data'],mnist['target'] "
   ]
  },
  {
   "cell_type": "code",
   "execution_count": 4,
   "metadata": {},
   "outputs": [
    {
     "data": {
      "text/plain": [
       "array([[0., 0., 0., ..., 0., 0., 0.],\n",
       "       [0., 0., 0., ..., 0., 0., 0.],\n",
       "       [0., 0., 0., ..., 0., 0., 0.],\n",
       "       ...,\n",
       "       [0., 0., 0., ..., 0., 0., 0.],\n",
       "       [0., 0., 0., ..., 0., 0., 0.],\n",
       "       [0., 0., 0., ..., 0., 0., 0.]])"
      ]
     },
     "execution_count": 4,
     "metadata": {},
     "output_type": "execute_result"
    }
   ],
   "source": [
    "X"
   ]
  },
  {
   "cell_type": "code",
   "execution_count": 5,
   "metadata": {},
   "outputs": [
    {
     "data": {
      "text/plain": [
       "array([[0., 0., 0., ..., 0., 0., 0.],\n",
       "       [0., 0., 0., ..., 0., 0., 0.],\n",
       "       [0., 0., 0., ..., 0., 0., 0.],\n",
       "       ...,\n",
       "       [0., 0., 0., ..., 0., 0., 0.],\n",
       "       [0., 0., 0., ..., 0., 0., 0.],\n",
       "       [0., 0., 0., ..., 0., 0., 0.]])"
      ]
     },
     "execution_count": 5,
     "metadata": {},
     "output_type": "execute_result"
    }
   ],
   "source": [
    "X"
   ]
  },
  {
   "cell_type": "code",
   "execution_count": 6,
   "metadata": {},
   "outputs": [
    {
     "data": {
      "text/plain": [
       "array(['5', '0', '4', ..., '4', '5', '6'], dtype=object)"
      ]
     },
     "execution_count": 6,
     "metadata": {},
     "output_type": "execute_result"
    }
   ],
   "source": [
    "y"
   ]
  },
  {
   "cell_type": "code",
   "execution_count": 7,
   "metadata": {},
   "outputs": [
    {
     "data": {
      "image/png": "[encoded data removed]",
      "text/plain": [
       "<Figure size 432x288 with 1 Axes>"
      ]
     },
     "metadata": {
      "needs_background": "light"
     },
     "output_type": "display_data"
    }
   ],
   "source": [
    "some_digit = X[0]\n",
    "some_digit_image = some_digit.reshape(28,28)\n",
    "plt.imshow(some_digit_image , cmap='binary')\n",
    "plt.axis('off')\n",
    "plt.show()\n"
   ]
  },
  {
   "cell_type": "code",
   "execution_count": 8,
   "metadata": {},
   "outputs": [
    {
     "data": {
      "text/plain": [
       "'5'"
      ]
     },
     "execution_count": 8,
     "metadata": {},
     "output_type": "execute_result"
    }
   ],
   "source": [
    "y[0]"
   ]
  },
  {
   "cell_type": "code",
   "execution_count": 9,
   "metadata": {},
   "outputs": [],
   "source": [
    "y = y.astype(np.uint8)\n",
    "X_train , X_test , y_train, y_test = X[:60000],X[60000:],y[:60000],y[60000:]"
   ]
  },
  {
   "cell_type": "code",
   "execution_count": 10,
   "metadata": {},
   "outputs": [
    {
     "data": {
      "text/plain": [
       "numpy.ndarray"
      ]
     },
     "execution_count": 10,
     "metadata": {},
     "output_type": "execute_result"
    }
   ],
   "source": [
    "type(y)"
   ]
  },
  {
   "cell_type": "code",
   "execution_count": 11,
   "metadata": {},
   "outputs": [
    {
     "data": {
      "text/plain": [
       "array([5, 0, 4, ..., 4, 5, 6], dtype=uint8)"
      ]
     },
     "execution_count": 11,
     "metadata": {},
     "output_type": "execute_result"
    }
   ],
   "source": [
    "y"
   ]
  },
  {
   "cell_type": "code",
   "execution_count": 12,
   "metadata": {},
   "outputs": [
    {
     "data": {
      "text/plain": [
       "KNeighborsClassifier(n_neighbors=4, weights='distance')"
      ]
     },
     "execution_count": 12,
     "metadata": {},
     "output_type": "execute_result"
    }
   ],
   "source": [
    "from sklearn.neighbors import KNeighborsClassifier\n",
    "knn_clf = KNeighborsClassifier(n_neighbors=4,weights='distance')\n",
    "knn_clf.fit(X_train,y_train)"
   ]
  },
  {
   "cell_type": "code",
   "execution_count": 13,
   "metadata": {},
   "outputs": [],
   "source": [
    "y_knn_pred = knn_clf.predict(X_test)"
   ]
  },
  {
   "cell_type": "code",
   "execution_count": 14,
   "metadata": {},
   "outputs": [
    {
     "data": {
      "text/plain": [
       "array([7, 2, 1, ..., 4, 5, 6], dtype=uint8)"
      ]
     },
     "execution_count": 14,
     "metadata": {},
     "output_type": "execute_result"
    }
   ],
   "source": [
    "y_knn_pred"
   ]
  },
  {
   "cell_type": "code",
   "execution_count": 15,
   "metadata": {},
   "outputs": [],
   "source": [
    "from sklearn.metrics import accuracy_score\n",
    "acc_scor = accuracy_score(y_test , y_knn_pred )"
   ]
  },
  {
   "cell_type": "code",
   "execution_count": 16,
   "metadata": {},
   "outputs": [
    {
     "data": {
      "text/plain": [
       "0.9714"
      ]
     },
     "execution_count": 16,
     "metadata": {},
     "output_type": "execute_result"
    }
   ],
   "source": [
    "acc_scor\n"
   ]
  },
  {
   "cell_type": "code",
   "execution_count": 17,
   "metadata": {},
   "outputs": [],
   "source": [
    "from scipy.ndimage.interpolation import shift\n",
    "def shift_image(digit_image , dx , dy , new=0):\n",
    "    return shift(digit_image.reshape(28,28),[dx ,dy], cval=new).reshape(784)"
   ]
  },
  {
   "cell_type": "code",
   "execution_count": 18,
   "metadata": {},
   "outputs": [
    {
     "data": {
      "text/plain": [
       "array([ 1.00000000e+02,  1.00000000e+02,  1.00000000e+02,  1.00000000e+02,\n",
       "        1.00000000e+02,  1.00000000e+02,  1.00000000e+02,  1.00000000e+02,\n",
       "        1.00000000e+02,  1.00000000e+02,  1.00000000e+02,  1.00000000e+02,\n",
       "        1.00000000e+02,  1.00000000e+02,  1.00000000e+02,  1.00000000e+02,\n",
       "        1.00000000e+02,  1.00000000e+02,  1.00000000e+02,  1.00000000e+02,\n",
       "        1.00000000e+02,  1.00000000e+02,  1.00000000e+02,  1.00000000e+02,\n",
       "        1.00000000e+02,  1.00000000e+02,  1.00000000e+02,  1.00000000e+02,\n",
       "        1.00000000e+02,  1.00000000e+02,  1.00000000e+02,  1.00000000e+02,\n",
       "        1.00000000e+02,  1.00000000e+02,  1.00000000e+02,  1.00000000e+02,\n",
       "        1.00000000e+02,  1.00000000e+02,  1.00000000e+02,  1.00000000e+02,\n",
       "        1.00000000e+02,  1.00000000e+02,  1.00000000e+02,  1.00000000e+02,\n",
       "        1.00000000e+02,  1.00000000e+02,  1.00000000e+02,  1.00000000e+02,\n",
       "        1.00000000e+02,  1.00000000e+02,  1.00000000e+02,  1.00000000e+02,\n",
       "        1.00000000e+02,  1.00000000e+02,  1.00000000e+02,  1.00000000e+02,\n",
       "        1.00000000e+02,  1.00000000e+02,  1.00000000e+02,  1.00000000e+02,\n",
       "        1.00000000e+02,  1.00000000e+02,  1.00000000e+02,  1.00000000e+02,\n",
       "        1.00000000e+02,  1.00000000e+02,  1.00000000e+02,  1.00000000e+02,\n",
       "        1.00000000e+02,  1.00000000e+02,  1.00000000e+02,  1.00000000e+02,\n",
       "        1.00000000e+02,  1.00000000e+02,  1.00000000e+02,  1.00000000e+02,\n",
       "        1.00000000e+02,  1.00000000e+02,  1.00000000e+02,  1.00000000e+02,\n",
       "        1.00000000e+02,  1.00000000e+02,  1.00000000e+02,  1.00000000e+02,\n",
       "        1.00000000e+02,  1.00000000e+02,  1.00000000e+02,  1.00000000e+02,\n",
       "        1.00000000e+02,  1.00000000e+02,  1.00000000e+02,  1.00000000e+02,\n",
       "        1.00000000e+02,  1.00000000e+02,  1.00000000e+02,  1.00000000e+02,\n",
       "        1.00000000e+02,  1.00000000e+02,  1.00000000e+02,  1.00000000e+02,\n",
       "        1.00000000e+02,  1.00000000e+02,  1.00000000e+02,  1.00000000e+02,\n",
       "        1.00000000e+02,  1.00000000e+02,  1.00000000e+02,  1.00000000e+02,\n",
       "        1.00000000e+02,  1.00000000e+02,  1.00000000e+02,  1.00000000e+02,\n",
       "        1.00000000e+02,  1.00000000e+02,  1.00000000e+02,  1.00000000e+02,\n",
       "        1.00000000e+02,  1.00000000e+02,  1.00000000e+02,  1.00000000e+02,\n",
       "        1.00000000e+02,  1.00000000e+02,  1.00000000e+02,  1.00000000e+02,\n",
       "        1.00000000e+02,  1.00000000e+02,  1.00000000e+02,  1.00000000e+02,\n",
       "        1.00000000e+02,  1.00000000e+02,  1.00000000e+02,  1.00000000e+02,\n",
       "        1.00000000e+02,  1.00000000e+02,  1.00000000e+02,  1.00000000e+02,\n",
       "        1.00000000e+02,  1.00000000e+02,  1.00000000e+02,  1.00000000e+02,\n",
       "        1.00000000e+02, -6.46659022e-23,  4.82197050e-22, -2.07588054e-21,\n",
       "       -4.46065190e-21,  2.75417862e-20, -3.79438788e-20, -4.77412924e-21,\n",
       "       -6.88328472e-18, -9.62232106e-18, -1.17692092e-17,  3.18833130e-17,\n",
       "        7.19340484e-17,  8.59482256e-17,  9.24715563e-17,  1.00096547e-16,\n",
       "        9.36135276e-17, -2.12439458e-16, -3.33659976e-16, -3.48925873e-16,\n",
       "        2.51558129e-17, -2.75576342e-16, -5.46555012e-16, -6.17615819e-16,\n",
       "       -3.19095140e-16, -5.09602656e-18, -1.24669432e-18, -4.88167325e-19,\n",
       "        1.00000000e+02,  1.39100096e-21,  1.91220035e-21,  6.58018215e-23,\n",
       "        8.83601806e-21,  9.33391289e-20, -2.98267470e-20, -9.59072500e-19,\n",
       "        2.90227283e-17,  6.47870442e-17,  5.01316097e-17, -1.20102971e-16,\n",
       "       -2.69101003e-16, -2.67378388e-16, -3.70892484e-16, -3.78420625e-16,\n",
       "       -3.57311946e-16,  7.50043881e-16,  7.90302929e-16,  1.27990540e-15,\n",
       "       -1.86736950e-16,  9.22642399e-16,  2.03939236e-15,  2.00562630e-15,\n",
       "        1.16860308e-15,  2.71602316e-17,  1.15733746e-17,  3.95830514e-18,\n",
       "        1.00000000e+02,  6.99439803e-21,  3.30394634e-21,  9.43596977e-21,\n",
       "        9.10893241e-20,  1.95412893e-19,  4.88306495e-20, -3.74835108e-18,\n",
       "       -1.39565289e-16, -1.80570597e-16, -1.28475589e-16,  4.79753593e-16,\n",
       "        1.00707205e-15,  1.07724039e-15,  1.46395677e-15,  1.28868586e-15,\n",
       "        1.43624822e-15, -2.52058865e-15, -2.36264585e-15, -4.74294015e-15,\n",
       "        2.36069413e-16, -4.09500486e-15, -6.18854116e-15, -8.46654015e-15,\n",
       "       -4.11939477e-15,  8.59736398e-17,  1.59937783e-17,  6.17635987e-18,\n",
       "        1.00000000e+02,  6.84206540e-21, -4.11655738e-21,  3.67292184e-20,\n",
       "        1.96012826e-19,  4.65811463e-20,  3.30395110e-18, -3.56316229e-18,\n",
       "        3.76582763e-16,  7.73721819e-16,  6.75407010e-16, -1.47972228e-15,\n",
       "       -4.21368475e-15, -3.25054928e-15, -3.85776396e-15, -4.51264486e-15,\n",
       "       -4.47174694e-15,  1.10947898e-14,  1.25460611e-14,  1.35562744e-14,\n",
       "       -2.03429718e-15,  1.36255090e-14,  2.81271095e-14,  2.84743541e-14,\n",
       "        1.75641165e-14,  2.93344301e-16, -4.95276356e-17, -1.55869031e-18,\n",
       "        1.00000000e+02, -5.89266151e-20, -1.73309029e-20,  8.75926453e-20,\n",
       "        9.13792956e-19, -1.64897043e-19, -5.89206028e-18, -2.18976397e-17,\n",
       "       -1.95310230e-15, -2.42859410e-15, -2.47600794e-15,  6.18853607e-15,\n",
       "        1.61113449e-14,  1.67821825e-14,  3.13976006e-14,  2.99180364e-14,\n",
       "        2.81080813e-14,  2.27841652e-14,  2.46759651e-14,  2.52358520e-14,\n",
       "        2.02245949e-14,  3.56352531e-14,  3.63992729e-14,  1.71932570e-14,\n",
       "        2.75226740e-15, -6.69544860e-16, -2.06461294e-16,  3.52784832e-18,\n",
       "        1.00000000e+02, -1.77808265e-19, -3.46328460e-19,  9.12600804e-19,\n",
       "        5.04428147e-18,  1.49057845e-17, -3.51771047e-17, -3.25440248e-16,\n",
       "        5.85473019e-15,  2.60899743e-14,  2.75053259e-14,  2.45256867e-14,\n",
       "        2.93297407e-14,  3.00000000e+00,  1.80000000e+01,  1.80000000e+01,\n",
       "        1.80000000e+01,  1.26000000e+02,  1.36000000e+02,  1.75000000e+02,\n",
       "        2.60000000e+01,  1.66000000e+02,  2.55000000e+02,  2.47000000e+02,\n",
       "        1.27000000e+02, -2.57308312e-15, -8.10739122e-16, -2.02583490e-16,\n",
       "        1.00000000e+02,  1.24372456e-18, -5.75021635e-18,  1.91008455e-17,\n",
       "       -6.06785038e-17,  2.97338921e-16, -9.62143786e-16,  3.08771741e-15,\n",
       "        1.57738940e-15,  3.00000000e+01,  3.60000000e+01,  9.40000000e+01,\n",
       "        1.54000000e+02,  1.70000000e+02,  2.53000000e+02,  2.53000000e+02,\n",
       "        2.53000000e+02,  2.53000000e+02,  2.53000000e+02,  2.25000000e+02,\n",
       "        1.72000000e+02,  2.53000000e+02,  2.42000000e+02,  1.95000000e+02,\n",
       "        6.40000000e+01, -4.50342854e-16, -1.04426033e-16, -3.22744967e-17,\n",
       "        1.00000000e+02, -1.54159925e-19,  1.38913140e-19,  3.28479475e-18,\n",
       "       -8.07392877e-18,  1.33983958e-17, -2.05113996e-16,  2.45743746e-14,\n",
       "        4.90000000e+01,  2.38000000e+02,  2.53000000e+02,  2.53000000e+02,\n",
       "        2.53000000e+02,  2.53000000e+02,  2.53000000e+02,  2.53000000e+02,\n",
       "        2.53000000e+02,  2.53000000e+02,  2.51000000e+02,  9.30000000e+01,\n",
       "        8.20000000e+01,  8.20000000e+01,  5.60000000e+01,  3.90000000e+01,\n",
       "        1.08294316e-15,  4.15982172e-16,  1.38953609e-16,  7.02111244e-18,\n",
       "        1.00000000e+02,  4.40525407e-18, -1.76556706e-17,  7.23160655e-17,\n",
       "       -2.94376811e-16,  9.06782229e-16, -4.54358991e-15,  2.32653816e-14,\n",
       "        1.80000000e+01,  2.19000000e+02,  2.53000000e+02,  2.53000000e+02,\n",
       "        2.53000000e+02,  2.53000000e+02,  2.53000000e+02,  1.98000000e+02,\n",
       "        1.82000000e+02,  2.47000000e+02,  2.41000000e+02, -1.58250476e-16,\n",
       "       -3.66763005e-15, -8.05458023e-16, -5.68275896e-16,  3.34285000e-16,\n",
       "        7.59830519e-17,  1.01998205e-16,  2.77139752e-17, -1.29272252e-17,\n",
       "        1.00000000e+02,  2.02746285e-18, -8.09591030e-18,  3.14403805e-17,\n",
       "       -1.20213585e-16,  4.08214092e-16, -1.78585869e-15,  5.88881382e-15,\n",
       "        1.80554922e-14,  8.00000000e+01,  1.56000000e+02,  1.07000000e+02,\n",
       "        2.53000000e+02,  2.53000000e+02,  2.05000000e+02,  1.10000000e+01,\n",
       "        2.40115094e-14,  4.30000000e+01,  1.54000000e+02,  3.04160902e-15,\n",
       "        2.38722521e-15,  3.53038385e-16, -4.48536333e-16, -5.05125986e-17,\n",
       "       -1.41660205e-16, -3.54837795e-17, -2.55866310e-19, -1.62956667e-18,\n",
       "        1.00000000e+02, -4.99080679e-19,  1.17997403e-18, -4.16321719e-18,\n",
       "        1.11161236e-17, -5.52625766e-17,  1.59236378e-16, -8.68029275e-16,\n",
       "        2.62053685e-15,  2.03432915e-15,  1.40000000e+01,  1.00000000e+00,\n",
       "        1.54000000e+02,  2.53000000e+02,  9.00000000e+01,  5.01691301e-15,\n",
       "       -4.45534720e-15, -2.54801688e-15,  9.40857710e-15,  9.46252782e-16,\n",
       "        4.73365840e-16,  3.77200412e-17, -8.35297042e-17, -9.93905774e-18,\n",
       "       -5.20931785e-17, -3.43136294e-18, -1.26587450e-18, -4.22701916e-19,\n",
       "        1.00000000e+02, -1.49805917e-19,  3.29114635e-19, -1.21472174e-18,\n",
       "        3.55516413e-18, -1.61662518e-17,  5.29529328e-17, -2.31202928e-16,\n",
       "        8.28188709e-16, -1.68737813e-15,  1.20171630e-14,  2.35404334e-14,\n",
       "        1.39000000e+02,  2.53000000e+02,  1.90000000e+02,  2.00000000e+00,\n",
       "        1.56629751e-14,  8.79159198e-15, -3.19297592e-15,  1.38245507e-16,\n",
       "       -7.43735264e-17,  3.80544635e-17, -7.04339437e-18,  9.59498939e-18,\n",
       "        7.37329870e-18,  3.24558248e-19, -7.31485265e-19, -1.87049652e-19,\n",
       "        1.00000000e+02,  2.26901055e-20, -9.29898737e-20,  3.21317302e-19,\n",
       "       -1.18548224e-18,  4.28962603e-18, -1.74186346e-17,  6.66769677e-17,\n",
       "       -2.39652168e-16,  1.22219087e-15, -3.05338145e-15,  1.77151906e-14,\n",
       "        1.10000000e+01,  1.90000000e+02,  2.53000000e+02,  7.00000000e+01,\n",
       "        2.44994280e-14,  2.74563409e-14,  1.06182943e-14, -4.50627104e-16,\n",
       "        2.66475927e-16, -2.46256477e-16,  1.02058995e-17,  1.92106543e-18,\n",
       "        6.98631351e-18,  4.52947694e-19, -2.06145056e-19, -1.46144926e-20,\n",
       "        1.00000000e+02, -2.61817137e-21,  1.50715320e-20, -5.24534100e-20,\n",
       "        2.63682911e-19, -8.81062763e-19,  2.98417527e-18, -1.19591961e-17,\n",
       "        3.00521915e-17, -1.45101160e-16,  5.55775258e-16, -2.35950321e-15,\n",
       "        3.10463806e-14,  3.50000000e+01,  2.41000000e+02,  2.25000000e+02,\n",
       "        1.60000000e+02,  1.08000000e+02,  1.00000000e+00,  1.35979901e-14,\n",
       "       -1.22119648e-15,  7.40104047e-16,  1.04385925e-16,  1.07565430e-17,\n",
       "        4.88411452e-18,  9.34524853e-19,  4.40756893e-19,  1.82359595e-19,\n",
       "        1.00000000e+02, -2.09481180e-21,  8.08324129e-21, -2.76970545e-20,\n",
       "        1.14065110e-19, -7.55334563e-19,  1.20355214e-20, -7.36542008e-18,\n",
       "        2.75857945e-17, -9.94968644e-17,  3.21079117e-16, -1.17343355e-15,\n",
       "        5.58847705e-15,  2.16246237e-14,  8.10000000e+01,  2.40000000e+02,\n",
       "        2.53000000e+02,  2.53000000e+02,  1.19000000e+02,  2.50000000e+01,\n",
       "        1.87111093e-14, -1.69894760e-15,  1.02441777e-16, -8.11561521e-18,\n",
       "        8.93071338e-18,  2.56196245e-18, -5.22039705e-19,  1.76717672e-19,\n",
       "        1.00000000e+02, -6.52000407e-22, -7.54657754e-22,  6.10585115e-21,\n",
       "       -1.02539858e-20,  9.96739118e-19,  5.07611477e-18,  5.75351496e-18,\n",
       "       -2.04846377e-17, -9.41558591e-18, -9.44877712e-18,  1.38428814e-16,\n",
       "       -5.27358459e-16,  1.11912396e-15,  1.98455730e-14,  4.50000000e+01,\n",
       "        1.86000000e+02,  2.53000000e+02,  2.53000000e+02,  1.50000000e+02,\n",
       "        2.70000000e+01,  1.01399157e-14,  3.10585300e-16, -2.03140378e-16,\n",
       "       -4.27216325e-17, -2.14976495e-17, -6.59840999e-18,  1.86393900e-19,\n",
       "        1.00000000e+02,  1.60921044e-23, -1.99584598e-21, -3.89116944e-21,\n",
       "       -5.53052274e-21, -3.71137210e-18, -2.00252472e-17, -1.31219304e-17,\n",
       "        9.17307175e-17,  5.41436740e-17, -3.65046289e-17, -2.55327077e-16,\n",
       "        6.41720603e-16,  7.50069549e-18, -3.42912671e-15,  4.93982512e-15,\n",
       "        1.60000000e+01,  9.30000000e+01,  2.52000000e+02,  2.53000000e+02,\n",
       "        1.87000000e+02, -2.09996829e-15, -3.00284914e-16, -4.51875164e-16,\n",
       "       -2.28888381e-16, -7.93286519e-17, -1.06426549e-17, -2.13345717e-18,\n",
       "        1.00000000e+02, -3.82899048e-21, -1.04629955e-20,  6.71745704e-21,\n",
       "        1.10823470e-19,  1.45388940e-17,  8.67886956e-17,  8.16591908e-17,\n",
       "       -3.47414730e-16, -2.61054771e-16,  1.41741894e-16,  6.05809197e-16,\n",
       "       -2.09365989e-15, -1.87849276e-15,  1.73469653e-14,  1.62443412e-14,\n",
       "        5.48950023e-14,  2.72096055e-14,  2.49000000e+02,  2.53000000e+02,\n",
       "        2.49000000e+02,  6.40000000e+01, -2.35865582e-15, -5.62703288e-16,\n",
       "       -1.03774327e-16, -4.92079825e-18,  4.41196303e-18,  8.25473267e-19,\n",
       "        1.00000000e+02, -9.70491759e-21, -2.20354225e-20,  1.65314446e-20,\n",
       "        1.10436387e-19, -4.65595516e-17, -2.64972071e-16, -2.49972861e-16,\n",
       "        9.01805570e-16,  7.98851889e-16, -6.70488837e-16, -2.60139876e-15,\n",
       "        9.35710086e-15,  2.45011762e-14,  4.12412769e-14,  4.60000000e+01,\n",
       "        1.30000000e+02,  1.83000000e+02,  2.53000000e+02,  2.53000000e+02,\n",
       "        2.07000000e+02,  2.00000000e+00, -3.11766146e-15, -3.93595449e-16,\n",
       "        1.45332920e-16,  3.77779652e-17, -2.84279046e-18, -3.31329711e-18,\n",
       "        1.00000000e+02, -4.72209048e-20,  5.01730503e-21,  2.43992119e-19,\n",
       "       -1.37395735e-18,  1.82745336e-16,  9.56841934e-16,  6.00986022e-16,\n",
       "       -5.22717149e-15, -3.10207907e-15,  1.52342017e-15,  2.57891715e-14,\n",
       "        4.64420783e-14,  3.90000000e+01,  1.48000000e+02,  2.29000000e+02,\n",
       "        2.53000000e+02,  2.53000000e+02,  2.53000000e+02,  2.50000000e+02,\n",
       "        1.82000000e+02,  5.67490480e-15,  1.59500224e-16,  1.73622830e-16,\n",
       "        1.16152589e-16,  1.09870370e-17,  2.31273712e-18, -1.04760707e-18,\n",
       "        1.00000000e+02, -6.20543173e-19, -2.66233367e-19,  3.52862033e-18,\n",
       "        1.25716400e-18, -7.11569697e-16, -4.13272319e-15, -3.84578554e-15,\n",
       "        1.91426926e-14,  2.33222236e-14,  3.51457219e-14,  2.40000000e+01,\n",
       "        1.14000000e+02,  2.21000000e+02,  2.53000000e+02,  2.53000000e+02,\n",
       "        2.53000000e+02,  2.53000000e+02,  2.01000000e+02,  7.80000000e+01,\n",
       "        2.07580767e-15,  1.92509079e-15,  3.53900591e-16,  3.16228471e-17,\n",
       "        4.86986738e-17, -4.53555713e-18, -1.14745828e-18,  1.80722320e-19,\n",
       "        1.00000000e+02, -2.64231457e-18, -2.39070750e-18,  1.58914319e-17,\n",
       "       -4.15148369e-17,  2.96209957e-15,  1.35936528e-14,  2.66379073e-14,\n",
       "        2.30186288e-14,  2.30000000e+01,  6.60000000e+01,  2.13000000e+02,\n",
       "        2.53000000e+02,  2.53000000e+02,  2.53000000e+02,  2.53000000e+02,\n",
       "        1.98000000e+02,  8.10000000e+01,  2.00000000e+00,  3.25690139e-15,\n",
       "       -1.17853104e-15,  1.40085787e-16,  2.81514421e-17,  3.56882121e-17,\n",
       "        1.61747962e-17, -5.73037096e-19, -2.69135065e-19,  5.88494828e-20,\n",
       "        1.00000000e+02, -1.78459773e-17,  4.45080836e-17, -1.64414745e-16,\n",
       "        5.86191606e-16,  1.53202085e-14,  4.90386113e-14,  1.80000000e+01,\n",
       "        1.71000000e+02,  2.19000000e+02,  2.53000000e+02,  2.53000000e+02,\n",
       "        2.53000000e+02,  2.53000000e+02,  1.95000000e+02,  8.00000000e+01,\n",
       "        9.00000000e+00,  3.68765464e-16,  1.35045601e-16,  5.11976646e-16,\n",
       "       -2.65731868e-16, -8.02073491e-17,  1.77980456e-17,  6.95945119e-18,\n",
       "        2.17746491e-18,  1.15276427e-18,  1.73879605e-20, -3.43524045e-20])"
      ]
     },
     "execution_count": 18,
     "metadata": {},
     "output_type": "execute_result"
    }
   ],
   "source": [
    "shift_image(some_digit,5,1,100)"
   ]
  },
  {
   "cell_type": "code",
   "execution_count": 19,
   "metadata": {},
   "outputs": [],
   "source": [
    "def plot_digit(data):\n",
    "    image = data.reshape(28, 28)\n",
    "    plt.imshow(image, cmap = mpl.cm.binary,\n",
    "               interpolation=\"nearest\")\n",
    "    plt.axis(\"off\")"
   ]
  },
  {
   "cell_type": "code",
   "execution_count": 20,
   "metadata": {},
   "outputs": [
    {
     "name": "stdout",
     "output_type": "stream",
     "text": [
      "enter the index number of digit : 70\n"
     ]
    },
    {
     "data": {
      "image/png": "[encoded data removed]",
      "text/plain": [
       "<Figure size 432x288 with 1 Axes>"
      ]
     },
     "metadata": {
      "needs_background": "light"
     },
     "output_type": "display_data"
    }
   ],
   "source": [
    "\n",
    "from scipy.ndimage.interpolation import shift\n",
    "def shift_digit(digit_array, dx, dy, new=0):\n",
    "    return shift(digit_array.reshape(28, 28), [dy, dx], cval=new).reshape(784)\n",
    "\n",
    "w=int(input(\"enter the index number of digit : \"))\n",
    "plot_digit(shift_digit(X[w] , 5, 1, new=100))"
   ]
  },
  {
   "cell_type": "code",
   "execution_count": null,
   "metadata": {
    "scrolled": true
   },
   "outputs": [
    {
     "name": "stdout",
     "output_type": "stream",
     "text": [
      "Fitting 5 folds for each of 6 candidates, totalling 30 fits\n",
      "[CV] n_neighbors=3, weights=uniform ..................................\n"
     ]
    },
    {
     "name": "stderr",
     "output_type": "stream",
     "text": [
      "[Parallel(n_jobs=1)]: Using backend SequentialBackend with 1 concurrent workers.\n"
     ]
    },
    {
     "name": "stdout",
     "output_type": "stream",
     "text": [
      "[CV] ...... n_neighbors=3, weights=uniform, score=0.972, total=21.7min\n",
      "[CV] n_neighbors=3, weights=uniform ..................................\n"
     ]
    },
    {
     "name": "stderr",
     "output_type": "stream",
     "text": [
      "[Parallel(n_jobs=1)]: Done   1 out of   1 | elapsed: 21.7min remaining:    0.0s\n"
     ]
    },
    {
     "name": "stdout",
     "output_type": "stream",
     "text": [
      "[CV] ...... n_neighbors=3, weights=uniform, score=0.971, total=21.8min\n",
      "[CV] n_neighbors=3, weights=uniform ..................................\n"
     ]
    },
    {
     "name": "stderr",
     "output_type": "stream",
     "text": [
      "[Parallel(n_jobs=1)]: Done   2 out of   2 | elapsed: 43.4min remaining:    0.0s\n"
     ]
    },
    {
     "name": "stdout",
     "output_type": "stream",
     "text": [
      "[CV] ...... n_neighbors=3, weights=uniform, score=0.969, total=21.6min\n",
      "[CV] n_neighbors=3, weights=uniform ..................................\n",
      "[CV] ...... n_neighbors=3, weights=uniform, score=0.969, total=20.4min\n",
      "[CV] n_neighbors=3, weights=uniform ..................................\n",
      "[CV] ...... n_neighbors=3, weights=uniform, score=0.970, total=20.3min\n",
      "[CV] n_neighbors=3, weights=distance .................................\n",
      "[CV] ..... n_neighbors=3, weights=distance, score=0.972, total=20.1min\n",
      "[CV] n_neighbors=3, weights=distance .................................\n"
     ]
    }
   ],
   "source": [
    "from sklearn.model_selection import GridSearchCV\n",
    "\n",
    "param_grid = [{'weights': [\"uniform\", \"distance\"], 'n_neighbors': [3, 4, 5]}]\n",
    "\n",
    "knn_clf = KNeighborsClassifier()\n",
    "grid_search = GridSearchCV(knn_clf, param_grid, cv=5, verbose=3)\n",
    "grid_search.fit(X_train, y_train)"
   ]
  },
  {
   "cell_type": "code",
   "execution_count": null,
   "metadata": {},
   "outputs": [],
   "source": [
    "grid_search.best_params_"
   ]
  },
  {
   "cell_type": "code",
   "execution_count": null,
   "metadata": {},
   "outputs": [],
   "source": [
    "grid_search.best_score_"
   ]
  },
  {
   "cell_type": "code",
   "execution_count": null,
   "metadata": {},
   "outputs": [],
   "source": [
    "from sklearn.metrics import accuracy_score\n",
    "y_pred = grid_search.predict(X_test)\n",
    "accuracy_score(y_test, y_pred)"
   ]
  },
  {
   "cell_type": "markdown",
   "metadata": {},
   "source": [
    "# Question 2"
   ]
  },
  {
   "cell_type": "code",
   "execution_count": null,
   "metadata": {},
   "outputs": [],
   "source": [
    "from scipy.ndimage.interpolation import shift"
   ]
  },
  {
   "cell_type": "code",
   "execution_count": null,
   "metadata": {},
   "outputs": [],
   "source": [
    "def shift_image(image, dx, dy):\n",
    "    image = image.reshape((28, 28))\n",
    "    shifted_image = shift(image, [dy, dx], cval=0, mode=\"constant\")\n",
    "    return shifted_image.reshape([-1])"
   ]
  },
  {
   "cell_type": "code",
   "execution_count": null,
   "metadata": {},
   "outputs": [],
   "source": [
    "image = X_train[1000]\n",
    "shifted_image_down = shift_image(image, 0, 5)\n",
    "shifted_image_left = shift_image(image, -5, 0)\n",
    "\n",
    "plt.figure(figsize=(12,3))\n",
    "plt.subplot(131)\n",
    "plt.title(\"Original\", fontsize=14)\n",
    "plt.imshow(image.reshape(28, 28), interpolation=\"nearest\", cmap=\"Greys\")\n",
    "plt.subplot(132)\n",
    "plt.title(\"Shifted down\", fontsize=14)\n",
    "plt.imshow(shifted_image_down.reshape(28, 28), interpolation=\"nearest\", cmap=\"Greys\")\n",
    "plt.subplot(133)\n",
    "plt.title(\"Shifted left\", fontsize=14)\n",
    "plt.imshow(shifted_image_left.reshape(28, 28), interpolation=\"nearest\", cmap=\"Greys\")\n",
    "plt.show()"
   ]
  },
  {
   "cell_type": "code",
   "execution_count": null,
   "metadata": {},
   "outputs": [],
   "source": [
    "X_train_augmented = [image for image in X_train]\n",
    "y_train_augmented = [label for label in y_train]\n",
    "\n",
    "for dx, dy in ((1, 0), (-1, 0), (0, 1), (0, -1)):\n",
    "    for image, label in zip(X_train, y_train):\n",
    "        X_train_augmented.append(shift_image(image, dx, dy))\n",
    "        y_train_augmented.append(label)\n",
    "\n",
    "X_train_augmented = np.array(X_train_augmented)\n",
    "y_train_augmented = np.array(y_train_augmented)"
   ]
  },
  {
   "cell_type": "code",
   "execution_count": null,
   "metadata": {},
   "outputs": [],
   "source": [
    "shuffle_idx = np.random.permutation(len(X_train_augmented))\n",
    "X_train_augmented = X_train_augmented[shuffle_idx]\n",
    "y_train_augmented = y_train_augmented[shuffle_idx]"
   ]
  },
  {
   "cell_type": "code",
   "execution_count": null,
   "metadata": {},
   "outputs": [],
   "source": [
    "knn_clf = KNeighborsClassifier(**grid_search.best_params_)"
   ]
  },
  {
   "cell_type": "code",
   "execution_count": null,
   "metadata": {},
   "outputs": [],
   "source": [
    "knn_clf.fit(X_train_augmented, y_train_augmented)"
   ]
  },
  {
   "cell_type": "code",
   "execution_count": null,
   "metadata": {},
   "outputs": [],
   "source": [
    "y_pred = knn_clf.predict(X_test)\n",
    "accuracy_score(y_test, y_pred)"
   ]
  },
  {
   "cell_type": "code",
   "execution_count": null,
   "metadata": {},
   "outputs": [],
   "source": []
  }
 ],
 "metadata": {
  "kernelspec": {
   "display_name": "Python 3",
   "language": "python",
   "name": "python3"
  },
  "language_info": {
   "codemirror_mode": {
    "name": "ipython",
    "version": 3
   },
   "file_extension": ".py",
   "mimetype": "text/x-python",
   "name": "python",
   "nbconvert_exporter": "python",
   "pygments_lexer": "ipython3",
   "version": "3.8.4"
  }
 },
 "nbformat": 4,
 "nbformat_minor": 4
}
